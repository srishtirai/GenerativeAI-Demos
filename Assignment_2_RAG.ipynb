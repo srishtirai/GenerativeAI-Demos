{
  "nbformat": 4,
  "nbformat_minor": 0,
  "metadata": {
    "colab": {
      "provenance": []
    },
    "kernelspec": {
      "name": "python3",
      "display_name": "Python 3"
    },
    "language_info": {
      "name": "python"
    }
  },
  "cells": [
    {
      "cell_type": "markdown",
      "source": [
        "# Introduction\n",
        "\n",
        "In this notebook, we demonstrate how Retrieval-Augmented Generation (RAG) can help generate accurate responses by integrating information from external sources, such as news articles. By using RAG, we can retrieve relevant documents and provide citations to prevent hallucination and generate more reliable content."
      ],
      "metadata": {
        "id": "FPA_7TS7grPH"
      }
    },
    {
      "cell_type": "markdown",
      "source": [
        "To use the NYT API, I first signed up for an account on the NYT Developer Portal. After logging in, I generated an API key that grants access to the Article Search API, which allows me to query articles on various topics.\n",
        "\n",
        "Article Search API\n",
        "\n",
        "- The Article Search API allows querying for articles based on keywords, date ranges, and other parameters.\n",
        "- It's well-suited for searching specific articles related to a particular topic (\"AI revolution\")."
      ],
      "metadata": {
        "id": "2Tp3oQv7gtQh"
      }
    },
    {
      "cell_type": "code",
      "execution_count": 7,
      "metadata": {
        "colab": {
          "base_uri": "https://localhost:8080/"
        },
        "id": "7dWrKSsWfkBE",
        "outputId": "d5ef2853-7e2b-475d-b61d-718038f091fc"
      },
      "outputs": [
        {
          "output_type": "stream",
          "name": "stdout",
          "text": [
            "Retrieved Context:\n",
            " Article 1: Sublime Sienese art at the Met, Pan-African art throughout Chicago, a 200th anniversary at the Brooklyn Museum: These extravaganzas are not to be missed.\n",
            "Article 2: Fourteen teachers shared recommendations for students at all levels.\n",
            "Article 3: Exhibitions around the world are celebrating the art movement’s centennial and asking whether our crazy dreams can still set us free.\n",
            "Article 4: Sahra Wagenknecht, a former Communist, has founded her own party to respond to German grievances about migrants, crime and the dangers of the war in Ukraine.\n",
            "Article 5: Right-wing parties may be in the ascendant, but overall, democracy is not at risk.\n",
            "Article 6: The sprawling PST festival of more than 70 exhibitions doesn’t quite live up to its theme of art and science colliding. But there is a handful of impressive entries.\n",
            "Article 7: This week in Newly Reviewed, Travis Diehl covers Samuel Hindolo’s bohemian atmospheres, Kristin Walsh’s shiny engines and Janiva Ellis’s cataclysm and pop.\n",
            "Article 8: Fixing America’s broken immigration system starts with acknowledging that the United States needs more people.\n",
            "Article 9: Ezra Klein answers listener questions about fatherhood, ‘normalizing’ Trump and his outlook on 2025.\n",
            "Article 10: The August 21, 2024, episode of “The Ezra Klein Show.”\n",
            "\n",
            "Generated Response:\n",
            " Query: Social justice movements 2025\n",
            "Context: Article 1: Sublime Sienese art at the Met, Pan-African art throughout Chicago, a 200th anniversary at the Brooklyn Museum: These extravaganzas are not to be missed.\n",
            "Article 2: Fourteen teachers shared recommendations for students at all levels.\n",
            "Article 3: Exhibitions around the world are celebrating the art movement’s centennial and asking whether our crazy dreams can still set us free.\n",
            "Article 4: Sahra Wagenknecht, a former Communist, has founded her own party to respond to German grievances about migrants, crime and the dangers of the war in Ukraine.\n",
            "Article 5: Right-wing parties may be in the ascendant, but overall, democracy is not at risk.\n",
            "Article 6: The sprawling PST festival of more than 70 exhibitions doesn’t quite live up to its theme of art and science colliding. But there is a handful of impressive entries.\n",
            "Article 7: This week in Newly Reviewed, Travis Diehl covers Samuel Hindolo’s bohemian atmospheres, Kristin Walsh’s shiny engines and Janiva Ellis’s cataclysm and pop.\n",
            "Article 8: Fixing America’s broken immigration system starts with acknowledging that the United States needs more people.\n",
            "Article 9: Ezra Klein answers listener questions about fatherhood, ‘normalizing’ Trump and his outlook on 2025.\n",
            "Article 10: The August 21, 2024, episode of “The Ezra Klein Show.”\n",
            "Answer: \"I think it's time we start talking.\"\n",
            "\n",
            "Citations:\n",
            "Article 1 - https://www.nytimes.com/2024/09/05/arts/design/10-most-anticipated-art-shows-cotter.html\n",
            "Article 2 - https://www.nytimes.com/2024/01/22/well/move/yoga-books.html\n",
            "Article 3 - https://www.nytimes.com/2024/02/28/arts/design/surrealism-centennial-pompidou-brussels.html\n",
            "Article 4 - https://www.nytimes.com/2024/08/29/world/europe/germany-politics-wagenknecht.html\n",
            "Article 5 - https://www.nytimes.com/2025/01/11/opinion/editorials/liberal-democracy-far-right-authoritarianism-populism-europe.html\n",
            "Article 6 - https://www.nytimes.com/2024/11/11/arts/design/pst-los-angeles-review-science-art.html\n",
            "Article 7 - https://www.nytimes.com/2024/10/03/arts/design/nyc-galleries-october.html\n",
            "Article 8 - https://www.nytimes.com/2025/01/10/opinion/american-immigration-immigrants.html\n",
            "Article 9 - https://www.nytimes.com/2024/12/24/opinion/ezra-klein-podcast-ask-me-anything.html\n",
            "Article 10 - https://www.nytimes.com/2024/08/21/podcasts/transcript-ezra-klein-dnc-digest.html\n"
          ]
        }
      ],
      "source": [
        "import requests\n",
        "from transformers import GPT2LMHeadModel, GPT2Tokenizer\n",
        "\n",
        "# Step 1: Retrieve articles using the NYTimes API\n",
        "def fetch_articles(query, api_key, begin_date, end_date):\n",
        "    url = \"https://api.nytimes.com/svc/search/v2/articlesearch.json\"\n",
        "    params = {\n",
        "        'q': query,\n",
        "        'api-key': api_key,\n",
        "        'begin_date': begin_date,\n",
        "        'end_date': end_date\n",
        "    }\n",
        "    response = requests.get(url, params=params)\n",
        "    if response.status_code == 200:\n",
        "        return response.json().get('response', {}).get('docs', [])\n",
        "    else:\n",
        "        raise Exception(f\"Failed to fetch articles: {response.status_code} - {response.text}\")\n",
        "\n",
        "# Step 2: Extract relevant content and citations\n",
        "def prepare_context(articles):\n",
        "    context = \"\"\n",
        "    citations = []\n",
        "    for idx, article in enumerate(articles):\n",
        "        abstract = article.get('abstract', 'No abstract available.')\n",
        "        url = article.get('web_url', '')\n",
        "        if abstract and url:\n",
        "            context += f\"Article {idx+1}: {abstract}\\n\"\n",
        "            citations.append(f\"Article {idx+1} - {url}\")\n",
        "    return context.strip(), citations\n",
        "\n",
        "# Step 3: Generate response using retrieved context\n",
        "def generate_response(query, context, model, tokenizer):\n",
        "    model_input = f\"Query: {query}\\nContext: {context}\\nAnswer:\"\n",
        "    inputs = tokenizer(model_input, return_tensors=\"pt\", truncation=True, padding=True, max_length=1024)\n",
        "    inputs[\"attention_mask\"] = inputs[\"input_ids\"] != tokenizer.pad_token_id\n",
        "    outputs = model.generate(\n",
        "      inputs['input_ids'],\n",
        "      attention_mask=inputs['attention_mask'],\n",
        "      max_new_tokens=200,\n",
        "      pad_token_id=tokenizer.eos_token_id,\n",
        "      repetition_penalty=1.2  # Adjust to reduce redundant phrases\n",
        "  )\n",
        "\n",
        "    response = tokenizer.decode(outputs[0], skip_special_tokens=True)\n",
        "    return response\n",
        "\n",
        "# Main Execution\n",
        "if __name__ == \"__main__\":\n",
        "    # Configuration\n",
        "    api_key = 'nFXUbgmS6atPUsox7no4bSFtSsVQTgGw'\n",
        "    query = \"Social justice movements 2025\"\n",
        "    begin_date = \"20240101\"\n",
        "    end_date = \"20251231\"\n",
        "\n",
        "    # Initialize the model and tokenizer\n",
        "    tokenizer = GPT2Tokenizer.from_pretrained('gpt2')\n",
        "    model = GPT2LMHeadModel.from_pretrained('gpt2')\n",
        "    tokenizer.pad_token = tokenizer.eos_token  # Avoid padding warnings\n",
        "\n",
        "    # Fetch articles and prepare context\n",
        "    articles = fetch_articles(query, api_key, begin_date, end_date)\n",
        "    context, citations = prepare_context(articles)\n",
        "\n",
        "    # Generate response using RAG\n",
        "    if context:\n",
        "        print(\"Retrieved Context:\\n\", context)\n",
        "        response = generate_response(query, context, model, tokenizer)\n",
        "        print(\"\\nGenerated Response:\\n\", response)\n",
        "        print(\"\\nCitations:\")\n",
        "        for citation in citations:\n",
        "            print(citation)\n",
        "    else:\n",
        "        print(\"No articles found for the given query.\")\n"
      ]
    },
    {
      "cell_type": "markdown",
      "source": [
        "How RAG Prevents Hallucination\n",
        "1. Content Anchoring:\n",
        "\n",
        "Answers are directly linked to specific retrieved documents, reducing the likelihood of speculative content.\n",
        "If no relevant context is retrieved, the model will output a disclaimer like: \"I could not find relevant information.\"\n",
        "\n",
        "2. Traceability:\n",
        "\n",
        "The response is backed by links to verifiable sources, making it easy to fact-check.\n",
        "\n",
        "3. Controlled Retrieval:\n",
        "\n",
        "By fine-tuning the retriever, you can limit the context to only high-quality, domain-relevant data.\n",
        "-"
      ],
      "metadata": {
        "id": "O7gfOzIMhAYc"
      }
    },
    {
      "cell_type": "code",
      "source": [],
      "metadata": {
        "id": "gwQhWcq7hU7R"
      },
      "execution_count": 7,
      "outputs": []
    }
  ]
}