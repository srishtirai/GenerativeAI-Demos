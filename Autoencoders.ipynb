{
  "nbformat": 4,
  "nbformat_minor": 0,
  "metadata": {
    "colab": {
      "provenance": [],
      "machine_shape": "hm",
      "gpuType": "A100"
    },
    "kernelspec": {
      "name": "python3",
      "display_name": "Python 3"
    },
    "language_info": {
      "name": "python"
    },
    "accelerator": "GPU"
  },
  "cells": [
    {
      "cell_type": "code",
      "source": [
        "!pip install torch torchvision\n",
        "!pip install matplotlib"
      ],
      "metadata": {
        "colab": {
          "base_uri": "https://localhost:8080/"
        },
        "id": "oMgcLubcWC79",
        "outputId": "e598c106-87ee-4dbf-ddc4-0105cd30aa7b"
      },
      "execution_count": null,
      "outputs": [
        {
          "output_type": "stream",
          "name": "stdout",
          "text": [
            "Requirement already satisfied: torch in /usr/local/lib/python3.11/dist-packages (2.5.1+cu124)\n",
            "Requirement already satisfied: torchvision in /usr/local/lib/python3.11/dist-packages (0.20.1+cu124)\n",
            "Requirement already satisfied: filelock in /usr/local/lib/python3.11/dist-packages (from torch) (3.17.0)\n",
            "Requirement already satisfied: typing-extensions>=4.8.0 in /usr/local/lib/python3.11/dist-packages (from torch) (4.12.2)\n",
            "Requirement already satisfied: networkx in /usr/local/lib/python3.11/dist-packages (from torch) (3.4.2)\n",
            "Requirement already satisfied: jinja2 in /usr/local/lib/python3.11/dist-packages (from torch) (3.1.5)\n",
            "Requirement already satisfied: fsspec in /usr/local/lib/python3.11/dist-packages (from torch) (2024.10.0)\n",
            "Collecting nvidia-cuda-nvrtc-cu12==12.4.127 (from torch)\n",
            "  Downloading nvidia_cuda_nvrtc_cu12-12.4.127-py3-none-manylinux2014_x86_64.whl.metadata (1.5 kB)\n",
            "Collecting nvidia-cuda-runtime-cu12==12.4.127 (from torch)\n",
            "  Downloading nvidia_cuda_runtime_cu12-12.4.127-py3-none-manylinux2014_x86_64.whl.metadata (1.5 kB)\n",
            "Collecting nvidia-cuda-cupti-cu12==12.4.127 (from torch)\n",
            "  Downloading nvidia_cuda_cupti_cu12-12.4.127-py3-none-manylinux2014_x86_64.whl.metadata (1.6 kB)\n",
            "Collecting nvidia-cudnn-cu12==9.1.0.70 (from torch)\n",
            "  Downloading nvidia_cudnn_cu12-9.1.0.70-py3-none-manylinux2014_x86_64.whl.metadata (1.6 kB)\n",
            "Collecting nvidia-cublas-cu12==12.4.5.8 (from torch)\n",
            "  Downloading nvidia_cublas_cu12-12.4.5.8-py3-none-manylinux2014_x86_64.whl.metadata (1.5 kB)\n",
            "Collecting nvidia-cufft-cu12==11.2.1.3 (from torch)\n",
            "  Downloading nvidia_cufft_cu12-11.2.1.3-py3-none-manylinux2014_x86_64.whl.metadata (1.5 kB)\n",
            "Collecting nvidia-curand-cu12==10.3.5.147 (from torch)\n",
            "  Downloading nvidia_curand_cu12-10.3.5.147-py3-none-manylinux2014_x86_64.whl.metadata (1.5 kB)\n",
            "Collecting nvidia-cusolver-cu12==11.6.1.9 (from torch)\n",
            "  Downloading nvidia_cusolver_cu12-11.6.1.9-py3-none-manylinux2014_x86_64.whl.metadata (1.6 kB)\n",
            "Collecting nvidia-cusparse-cu12==12.3.1.170 (from torch)\n",
            "  Downloading nvidia_cusparse_cu12-12.3.1.170-py3-none-manylinux2014_x86_64.whl.metadata (1.6 kB)\n",
            "Requirement already satisfied: nvidia-nccl-cu12==2.21.5 in /usr/local/lib/python3.11/dist-packages (from torch) (2.21.5)\n",
            "Requirement already satisfied: nvidia-nvtx-cu12==12.4.127 in /usr/local/lib/python3.11/dist-packages (from torch) (12.4.127)\n",
            "Collecting nvidia-nvjitlink-cu12==12.4.127 (from torch)\n",
            "  Downloading nvidia_nvjitlink_cu12-12.4.127-py3-none-manylinux2014_x86_64.whl.metadata (1.5 kB)\n",
            "Requirement already satisfied: triton==3.1.0 in /usr/local/lib/python3.11/dist-packages (from torch) (3.1.0)\n",
            "Requirement already satisfied: sympy==1.13.1 in /usr/local/lib/python3.11/dist-packages (from torch) (1.13.1)\n",
            "Requirement already satisfied: mpmath<1.4,>=1.1.0 in /usr/local/lib/python3.11/dist-packages (from sympy==1.13.1->torch) (1.3.0)\n",
            "Requirement already satisfied: numpy in /usr/local/lib/python3.11/dist-packages (from torchvision) (1.26.4)\n",
            "Requirement already satisfied: pillow!=8.3.*,>=5.3.0 in /usr/local/lib/python3.11/dist-packages (from torchvision) (11.1.0)\n",
            "Requirement already satisfied: MarkupSafe>=2.0 in /usr/local/lib/python3.11/dist-packages (from jinja2->torch) (3.0.2)\n",
            "Downloading nvidia_cublas_cu12-12.4.5.8-py3-none-manylinux2014_x86_64.whl (363.4 MB)\n",
            "\u001b[2K   \u001b[90m━━━━━━━━━━━━━━━━━━━━━━━━━━━━━━━━━━━━━━━━\u001b[0m \u001b[32m363.4/363.4 MB\u001b[0m \u001b[31m3.3 MB/s\u001b[0m eta \u001b[36m0:00:00\u001b[0m\n",
            "\u001b[?25hDownloading nvidia_cuda_cupti_cu12-12.4.127-py3-none-manylinux2014_x86_64.whl (13.8 MB)\n",
            "\u001b[2K   \u001b[90m━━━━━━━━━━━━━━━━━━━━━━━━━━━━━━━━━━━━━━━━\u001b[0m \u001b[32m13.8/13.8 MB\u001b[0m \u001b[31m59.4 MB/s\u001b[0m eta \u001b[36m0:00:00\u001b[0m\n",
            "\u001b[?25hDownloading nvidia_cuda_nvrtc_cu12-12.4.127-py3-none-manylinux2014_x86_64.whl (24.6 MB)\n",
            "\u001b[2K   \u001b[90m━━━━━━━━━━━━━━━━━━━━━━━━━━━━━━━━━━━━━━━━\u001b[0m \u001b[32m24.6/24.6 MB\u001b[0m \u001b[31m84.1 MB/s\u001b[0m eta \u001b[36m0:00:00\u001b[0m\n",
            "\u001b[?25hDownloading nvidia_cuda_runtime_cu12-12.4.127-py3-none-manylinux2014_x86_64.whl (883 kB)\n",
            "\u001b[2K   \u001b[90m━━━━━━━━━━━━━━━━━━━━━━━━━━━━━━━━━━━━━━━━\u001b[0m \u001b[32m883.7/883.7 kB\u001b[0m \u001b[31m52.6 MB/s\u001b[0m eta \u001b[36m0:00:00\u001b[0m\n",
            "\u001b[?25hDownloading nvidia_cudnn_cu12-9.1.0.70-py3-none-manylinux2014_x86_64.whl (664.8 MB)\n",
            "\u001b[2K   \u001b[90m━━━━━━━━━━━━━━━━━━━━━━━━━━━━━━━━━━━━━━━━\u001b[0m \u001b[32m664.8/664.8 MB\u001b[0m \u001b[31m1.8 MB/s\u001b[0m eta \u001b[36m0:00:00\u001b[0m\n",
            "\u001b[?25hDownloading nvidia_cufft_cu12-11.2.1.3-py3-none-manylinux2014_x86_64.whl (211.5 MB)\n",
            "\u001b[2K   \u001b[90m━━━━━━━━━━━━━━━━━━━━━━━━━━━━━━━━━━━━━━━━\u001b[0m \u001b[32m211.5/211.5 MB\u001b[0m \u001b[31m9.7 MB/s\u001b[0m eta \u001b[36m0:00:00\u001b[0m\n",
            "\u001b[?25hDownloading nvidia_curand_cu12-10.3.5.147-py3-none-manylinux2014_x86_64.whl (56.3 MB)\n",
            "\u001b[2K   \u001b[90m━━━━━━━━━━━━━━━━━━━━━━━━━━━━━━━━━━━━━━━━\u001b[0m \u001b[32m56.3/56.3 MB\u001b[0m \u001b[31m37.5 MB/s\u001b[0m eta \u001b[36m0:00:00\u001b[0m\n",
            "\u001b[?25hDownloading nvidia_cusolver_cu12-11.6.1.9-py3-none-manylinux2014_x86_64.whl (127.9 MB)\n",
            "\u001b[2K   \u001b[90m━━━━━━━━━━━━━━━━━━━━━━━━━━━━━━━━━━━━━━━━\u001b[0m \u001b[32m127.9/127.9 MB\u001b[0m \u001b[31m17.6 MB/s\u001b[0m eta \u001b[36m0:00:00\u001b[0m\n",
            "\u001b[?25hDownloading nvidia_cusparse_cu12-12.3.1.170-py3-none-manylinux2014_x86_64.whl (207.5 MB)\n",
            "\u001b[2K   \u001b[90m━━━━━━━━━━━━━━━━━━━━━━━━━━━━━━━━━━━━━━━━\u001b[0m \u001b[32m207.5/207.5 MB\u001b[0m \u001b[31m5.6 MB/s\u001b[0m eta \u001b[36m0:00:00\u001b[0m\n",
            "\u001b[?25hDownloading nvidia_nvjitlink_cu12-12.4.127-py3-none-manylinux2014_x86_64.whl (21.1 MB)\n",
            "\u001b[2K   \u001b[90m━━━━━━━━━━━━━━━━━━━━━━━━━━━━━━━━━━━━━━━━\u001b[0m \u001b[32m21.1/21.1 MB\u001b[0m \u001b[31m90.4 MB/s\u001b[0m eta \u001b[36m0:00:00\u001b[0m\n",
            "\u001b[?25hInstalling collected packages: nvidia-nvjitlink-cu12, nvidia-curand-cu12, nvidia-cufft-cu12, nvidia-cuda-runtime-cu12, nvidia-cuda-nvrtc-cu12, nvidia-cuda-cupti-cu12, nvidia-cublas-cu12, nvidia-cusparse-cu12, nvidia-cudnn-cu12, nvidia-cusolver-cu12\n",
            "  Attempting uninstall: nvidia-nvjitlink-cu12\n",
            "    Found existing installation: nvidia-nvjitlink-cu12 12.5.82\n",
            "    Uninstalling nvidia-nvjitlink-cu12-12.5.82:\n",
            "      Successfully uninstalled nvidia-nvjitlink-cu12-12.5.82\n",
            "  Attempting uninstall: nvidia-curand-cu12\n",
            "    Found existing installation: nvidia-curand-cu12 10.3.6.82\n",
            "    Uninstalling nvidia-curand-cu12-10.3.6.82:\n",
            "      Successfully uninstalled nvidia-curand-cu12-10.3.6.82\n",
            "  Attempting uninstall: nvidia-cufft-cu12\n",
            "    Found existing installation: nvidia-cufft-cu12 11.2.3.61\n",
            "    Uninstalling nvidia-cufft-cu12-11.2.3.61:\n",
            "      Successfully uninstalled nvidia-cufft-cu12-11.2.3.61\n",
            "  Attempting uninstall: nvidia-cuda-runtime-cu12\n",
            "    Found existing installation: nvidia-cuda-runtime-cu12 12.5.82\n",
            "    Uninstalling nvidia-cuda-runtime-cu12-12.5.82:\n",
            "      Successfully uninstalled nvidia-cuda-runtime-cu12-12.5.82\n",
            "  Attempting uninstall: nvidia-cuda-nvrtc-cu12\n",
            "    Found existing installation: nvidia-cuda-nvrtc-cu12 12.5.82\n",
            "    Uninstalling nvidia-cuda-nvrtc-cu12-12.5.82:\n",
            "      Successfully uninstalled nvidia-cuda-nvrtc-cu12-12.5.82\n",
            "  Attempting uninstall: nvidia-cuda-cupti-cu12\n",
            "    Found existing installation: nvidia-cuda-cupti-cu12 12.5.82\n",
            "    Uninstalling nvidia-cuda-cupti-cu12-12.5.82:\n",
            "      Successfully uninstalled nvidia-cuda-cupti-cu12-12.5.82\n",
            "  Attempting uninstall: nvidia-cublas-cu12\n",
            "    Found existing installation: nvidia-cublas-cu12 12.5.3.2\n",
            "    Uninstalling nvidia-cublas-cu12-12.5.3.2:\n",
            "      Successfully uninstalled nvidia-cublas-cu12-12.5.3.2\n",
            "  Attempting uninstall: nvidia-cusparse-cu12\n",
            "    Found existing installation: nvidia-cusparse-cu12 12.5.1.3\n",
            "    Uninstalling nvidia-cusparse-cu12-12.5.1.3:\n",
            "      Successfully uninstalled nvidia-cusparse-cu12-12.5.1.3\n",
            "  Attempting uninstall: nvidia-cudnn-cu12\n",
            "    Found existing installation: nvidia-cudnn-cu12 9.3.0.75\n",
            "    Uninstalling nvidia-cudnn-cu12-9.3.0.75:\n",
            "      Successfully uninstalled nvidia-cudnn-cu12-9.3.0.75\n",
            "  Attempting uninstall: nvidia-cusolver-cu12\n",
            "    Found existing installation: nvidia-cusolver-cu12 11.6.3.83\n",
            "    Uninstalling nvidia-cusolver-cu12-11.6.3.83:\n",
            "      Successfully uninstalled nvidia-cusolver-cu12-11.6.3.83\n",
            "Successfully installed nvidia-cublas-cu12-12.4.5.8 nvidia-cuda-cupti-cu12-12.4.127 nvidia-cuda-nvrtc-cu12-12.4.127 nvidia-cuda-runtime-cu12-12.4.127 nvidia-cudnn-cu12-9.1.0.70 nvidia-cufft-cu12-11.2.1.3 nvidia-curand-cu12-10.3.5.147 nvidia-cusolver-cu12-11.6.1.9 nvidia-cusparse-cu12-12.3.1.170 nvidia-nvjitlink-cu12-12.4.127\n",
            "Requirement already satisfied: matplotlib in /usr/local/lib/python3.11/dist-packages (3.10.0)\n",
            "Requirement already satisfied: contourpy>=1.0.1 in /usr/local/lib/python3.11/dist-packages (from matplotlib) (1.3.1)\n",
            "Requirement already satisfied: cycler>=0.10 in /usr/local/lib/python3.11/dist-packages (from matplotlib) (0.12.1)\n",
            "Requirement already satisfied: fonttools>=4.22.0 in /usr/local/lib/python3.11/dist-packages (from matplotlib) (4.56.0)\n",
            "Requirement already satisfied: kiwisolver>=1.3.1 in /usr/local/lib/python3.11/dist-packages (from matplotlib) (1.4.8)\n",
            "Requirement already satisfied: numpy>=1.23 in /usr/local/lib/python3.11/dist-packages (from matplotlib) (1.26.4)\n",
            "Requirement already satisfied: packaging>=20.0 in /usr/local/lib/python3.11/dist-packages (from matplotlib) (24.2)\n",
            "Requirement already satisfied: pillow>=8 in /usr/local/lib/python3.11/dist-packages (from matplotlib) (11.1.0)\n",
            "Requirement already satisfied: pyparsing>=2.3.1 in /usr/local/lib/python3.11/dist-packages (from matplotlib) (3.2.1)\n",
            "Requirement already satisfied: python-dateutil>=2.7 in /usr/local/lib/python3.11/dist-packages (from matplotlib) (2.8.2)\n",
            "Requirement already satisfied: six>=1.5 in /usr/local/lib/python3.11/dist-packages (from python-dateutil>=2.7->matplotlib) (1.17.0)\n"
          ]
        }
      ]
    },
    {
      "cell_type": "code",
      "source": [
        "import torch\n",
        "import torch.nn as nn\n",
        "import torch.optim as optim\n",
        "from torchvision import datasets, transforms\n",
        "from torch.utils.data import DataLoader\n",
        "import matplotlib.pyplot as plt"
      ],
      "metadata": {
        "id": "lxbj70u9WCQt"
      },
      "execution_count": null,
      "outputs": []
    },
    {
      "cell_type": "code",
      "source": [
        "# Device configuration\n",
        "device = torch.device(\"cuda\" if torch.cuda.is_available() else \"cpu\")"
      ],
      "metadata": {
        "id": "h4s2UBYKWVCF"
      },
      "execution_count": null,
      "outputs": []
    },
    {
      "cell_type": "markdown",
      "source": [
        "# Load MNIST Dataset\n",
        "\n"
      ],
      "metadata": {
        "id": "h3OnbiCuNr-P"
      }
    },
    {
      "cell_type": "code",
      "source": [
        "# Load MNIST dataset\n",
        "transform = transforms.Compose([transforms.ToTensor()])\n",
        "train_dataset = datasets.MNIST(root='./data', train=True, transform=transform, download=True)\n",
        "train_loader = DataLoader(train_dataset, batch_size=128, shuffle=True)"
      ],
      "metadata": {
        "colab": {
          "base_uri": "https://localhost:8080/"
        },
        "id": "9kW2FrMOWZb2",
        "outputId": "9ec517e5-2b75-4c79-986b-d8b69b67bb9d"
      },
      "execution_count": null,
      "outputs": [
        {
          "output_type": "stream",
          "name": "stdout",
          "text": [
            "Downloading http://yann.lecun.com/exdb/mnist/train-images-idx3-ubyte.gz\n",
            "Failed to download (trying next):\n",
            "HTTP Error 404: Not Found\n",
            "\n",
            "Downloading https://ossci-datasets.s3.amazonaws.com/mnist/train-images-idx3-ubyte.gz\n",
            "Downloading https://ossci-datasets.s3.amazonaws.com/mnist/train-images-idx3-ubyte.gz to ./data/MNIST/raw/train-images-idx3-ubyte.gz\n"
          ]
        },
        {
          "output_type": "stream",
          "name": "stderr",
          "text": [
            "100%|██████████| 9.91M/9.91M [00:00<00:00, 18.2MB/s]\n"
          ]
        },
        {
          "output_type": "stream",
          "name": "stdout",
          "text": [
            "Extracting ./data/MNIST/raw/train-images-idx3-ubyte.gz to ./data/MNIST/raw\n",
            "\n",
            "Downloading http://yann.lecun.com/exdb/mnist/train-labels-idx1-ubyte.gz\n",
            "Failed to download (trying next):\n",
            "HTTP Error 404: Not Found\n",
            "\n",
            "Downloading https://ossci-datasets.s3.amazonaws.com/mnist/train-labels-idx1-ubyte.gz\n",
            "Downloading https://ossci-datasets.s3.amazonaws.com/mnist/train-labels-idx1-ubyte.gz to ./data/MNIST/raw/train-labels-idx1-ubyte.gz\n"
          ]
        },
        {
          "output_type": "stream",
          "name": "stderr",
          "text": [
            "100%|██████████| 28.9k/28.9k [00:00<00:00, 481kB/s]\n"
          ]
        },
        {
          "output_type": "stream",
          "name": "stdout",
          "text": [
            "Extracting ./data/MNIST/raw/train-labels-idx1-ubyte.gz to ./data/MNIST/raw\n",
            "\n",
            "Downloading http://yann.lecun.com/exdb/mnist/t10k-images-idx3-ubyte.gz\n",
            "Failed to download (trying next):\n",
            "HTTP Error 404: Not Found\n",
            "\n",
            "Downloading https://ossci-datasets.s3.amazonaws.com/mnist/t10k-images-idx3-ubyte.gz\n",
            "Downloading https://ossci-datasets.s3.amazonaws.com/mnist/t10k-images-idx3-ubyte.gz to ./data/MNIST/raw/t10k-images-idx3-ubyte.gz\n"
          ]
        },
        {
          "output_type": "stream",
          "name": "stderr",
          "text": [
            "100%|██████████| 1.65M/1.65M [00:00<00:00, 4.48MB/s]\n"
          ]
        },
        {
          "output_type": "stream",
          "name": "stdout",
          "text": [
            "Extracting ./data/MNIST/raw/t10k-images-idx3-ubyte.gz to ./data/MNIST/raw\n",
            "\n",
            "Downloading http://yann.lecun.com/exdb/mnist/t10k-labels-idx1-ubyte.gz\n",
            "Failed to download (trying next):\n",
            "HTTP Error 404: Not Found\n",
            "\n",
            "Downloading https://ossci-datasets.s3.amazonaws.com/mnist/t10k-labels-idx1-ubyte.gz\n",
            "Downloading https://ossci-datasets.s3.amazonaws.com/mnist/t10k-labels-idx1-ubyte.gz to ./data/MNIST/raw/t10k-labels-idx1-ubyte.gz\n"
          ]
        },
        {
          "output_type": "stream",
          "name": "stderr",
          "text": [
            "100%|██████████| 4.54k/4.54k [00:00<00:00, 10.4MB/s]"
          ]
        },
        {
          "output_type": "stream",
          "name": "stdout",
          "text": [
            "Extracting ./data/MNIST/raw/t10k-labels-idx1-ubyte.gz to ./data/MNIST/raw\n",
            "\n"
          ]
        },
        {
          "output_type": "stream",
          "name": "stderr",
          "text": [
            "\n"
          ]
        }
      ]
    },
    {
      "cell_type": "markdown",
      "source": [
        "# Vanilla Autoencoder\n",
        "\n",
        "- **Purpose**: Compresses (encodes) input data into a lower-dimensional latent space and reconstructs (decodes) it back to the original form.  \n",
        "- **Encoder**:\n",
        "  - Flattens the 28x28 MNIST images into a 784-dimensional vector.  \n",
        "  - Passes through three fully connected layers with decreasing dimensions (512 → 128 → 50).  \n",
        "  - Uses **ReLU** activation for non-linearity.  \n",
        "  - Outputs a **50-dimensional latent vector** (compressed representation).  \n",
        "\n",
        "- **Decoder**:\n",
        "  - Reconstructs the image from the 50-dimensional latent space.  \n",
        "  - Mirrors the encoder structure (50 → 128 → 512 → 784).  \n",
        "  - Uses a **Sigmoid** activation to ensure output pixel values are between **[0, 1]**.  \n",
        "\n",
        "- **Forward Pass**:\n",
        "  - Input is encoded to the latent space.  \n",
        "  - Decodes the latent representation and reshapes it back to **(batch_size, 1, 28, 28)**."
      ],
      "metadata": {
        "id": "bMcV6njsNxmo"
      }
    },
    {
      "cell_type": "code",
      "source": [
        "# Vanilla Autoencoder\n",
        "class VanillaAutoencoder(nn.Module):\n",
        "    def __init__(self):\n",
        "        super(VanillaAutoencoder, self).__init__()\n",
        "        # Encoder\n",
        "        self.encoder = nn.Sequential(\n",
        "            nn.Flatten(),  # Flatten the image (28x28) to a 1D tensor (784)\n",
        "            nn.Linear(28 * 28, 512),\n",
        "            nn.ReLU(),\n",
        "            nn.Linear(512, 128),\n",
        "            nn.ReLU(),\n",
        "            nn.Linear(128, 50)  # Latent space\n",
        "        )\n",
        "\n",
        "        # Decoder\n",
        "        self.decoder = nn.Sequential(\n",
        "            nn.Linear(50, 128),\n",
        "            nn.ReLU(),\n",
        "            nn.Linear(128, 512),\n",
        "            nn.ReLU(),\n",
        "            nn.Linear(512, 28 * 28),\n",
        "            nn.Sigmoid()  # Ensure output values are between [0, 1]\n",
        "        )\n",
        "\n",
        "    def forward(self, x):\n",
        "        # Encode\n",
        "        latent = self.encoder(x)\n",
        "        # Decode and reshape to (batch_size, 1, 28, 28)\n",
        "        out = self.decoder(latent).view(-1, 1, 28, 28)\n",
        "        return out"
      ],
      "metadata": {
        "id": "8YaeGSgQWce6"
      },
      "execution_count": null,
      "outputs": []
    },
    {
      "cell_type": "markdown",
      "source": [
        "# Variational Autoencoder (VAE)\n",
        "\n",
        "- **Purpose**:  \n",
        "  - Extends the standard autoencoder by learning a **probabilistic latent space**.  \n",
        "  - Generates new samples by sampling from the learned distribution.  \n",
        "\n",
        "- **Encoder**:\n",
        "  - Flattens the 28x28 input image into a **784-dimensional** vector.  \n",
        "  - Passes through a **fully connected layer (512 units)** with **ReLU** activation.  \n",
        "  - Outputs **mean (μ)** and **log variance (log(σ²))** for the latent space.  \n",
        "\n",
        "- **Reparameterization Trick**:\n",
        "  - Allows backpropagation through stochastic sampling.  \n",
        "  - Computes the latent vector **z = μ + σ * ε**, where ε is sampled from a standard normal distribution.  \n",
        "\n",
        "- **Decoder**:\n",
        "  - Takes the latent vector **z** and reconstructs the input.  \n",
        "  - Uses two fully connected layers to output an image reshaped to **(batch_size, 1, 28, 28)**.  \n",
        "  - Applies a **sigmoid** function to keep pixel values between **[0, 1]**.  \n",
        "\n",
        "- **Forward Pass**:\n",
        "  1. **Encode**: Compute mean (μ) and log variance (log(σ²)).  \n",
        "  2. **Reparameterize**: Sample from the latent space using the reparameterization trick.  \n",
        "  3. **Decode**: Reconstruct the image from the sampled latent vector.  \n",
        "\n",
        "- **Weight Initialization**:\n",
        "  - Uses **Xavier Uniform** initialization for stable training."
      ],
      "metadata": {
        "id": "QZjP3Y9WOKEj"
      }
    },
    {
      "cell_type": "code",
      "source": [
        "class VAE(nn.Module):\n",
        "    def __init__(self, latent_dim=20):\n",
        "        super(VAE, self).__init__()\n",
        "        self.latent_dim = latent_dim\n",
        "\n",
        "        # Encoder layers\n",
        "        self.fc1 = nn.Linear(28 * 28, 512)\n",
        "        self.fc_mu = nn.Linear(512, self.latent_dim)\n",
        "        self.fc_logvar = nn.Linear(512, self.latent_dim)\n",
        "\n",
        "        # Decoder layers (Convolutional decoder)\n",
        "        self.fc3 = nn.Linear(self.latent_dim, 512)\n",
        "        self.fc4 = nn.Linear(512, 28 * 28)\n",
        "\n",
        "        self.apply(self.initialize_weights)\n",
        "\n",
        "    def initialize_weights(self, m):\n",
        "        if isinstance(m, nn.Linear):\n",
        "            nn.init.xavier_uniform_(m.weight)\n",
        "            if m.bias is not None:\n",
        "                nn.init.zeros_(m.bias)\n",
        "\n",
        "    def encode(self, x):\n",
        "        x = x.view(-1, 28 * 28)\n",
        "        h = F.relu(self.fc1(x))\n",
        "        mu = self.fc_mu(h)\n",
        "        logvar = self.fc_logvar(h)\n",
        "        return mu, logvar\n",
        "\n",
        "    def reparameterize(self, mu, logvar):\n",
        "        std = torch.exp(0.5 * logvar)\n",
        "        eps = torch.randn_like(std)\n",
        "        return mu + eps * std\n",
        "\n",
        "    def decode(self, z):\n",
        "        h = F.relu(self.fc3(z))\n",
        "        return torch.sigmoid(self.fc4(h))\n",
        "\n",
        "    def forward(self, x):\n",
        "        mu, logvar = self.encode(x)\n",
        "        z = self.reparameterize(mu, logvar)\n",
        "        recon_x = self.decode(z)\n",
        "        return recon_x, mu, logvar"
      ],
      "metadata": {
        "id": "5HuNhEhoWgMq"
      },
      "execution_count": null,
      "outputs": []
    },
    {
      "cell_type": "markdown",
      "source": [
        "# VAE Loss and Training Function\n",
        "\n",
        "- **Loss Functions**:  \n",
        "  - **MSELoss**: Measures reconstruction accuracy.  \n",
        "  - **KL Divergence**: Regularizes the latent space to follow a standard normal distribution.  \n",
        "\n",
        "- **VAE Loss**:  \n",
        "  \\[\n",
        "  \\text{Loss} = \\text{Reconstruction Loss} + \\text{KL Divergence}\n",
        "  \\]\n",
        "  \n",
        "- **Training Function**:  \n",
        "  - Uses **Adam** optimizer (LR = `1e-3`).  \n",
        "  - **VAE**: Uses combined VAE loss.  \n",
        "  - **Autoencoder**: Uses **MSELoss** only.  \n",
        "  - Updates weights via backpropagation and prints epoch-wise loss."
      ],
      "metadata": {
        "id": "nwLYsTkWOXZI"
      }
    },
    {
      "cell_type": "code",
      "execution_count": null,
      "metadata": {
        "id": "Jty8-pIAVykN"
      },
      "outputs": [],
      "source": [
        "mse_loss = nn.MSELoss()\n",
        "bce_loss = nn.BCELoss(reduction='sum')\n",
        "\n",
        "# Improved VAE loss with β coefficient for KL divergence scaling\n",
        "def vae_loss(recon_x, x, mu, logvar):\n",
        "    recon_loss = mse_loss(recon_x.view(x.size(0), -1), x.view(x.size(0), -1))  # Ensure matching shapes\n",
        "    kl_div = -0.5 * torch.sum(1 + logvar - mu.pow(2) - logvar.exp())\n",
        "    return recon_loss + kl_div\n",
        "\n",
        "def train_autoencoder(model, train_loader, epochs=50):\n",
        "    optimizer = optim.Adam(model.parameters(), lr=1e-3)\n",
        "    model.train()\n",
        "    for epoch in range(epochs):\n",
        "        total_loss = 0\n",
        "        for images, _ in train_loader:\n",
        "            images = images.to(device)\n",
        "            optimizer.zero_grad()\n",
        "\n",
        "            if isinstance(model, VAE):\n",
        "                outputs, mu, logvar = model(images)\n",
        "                loss = vae_loss(outputs, images, mu, logvar)  # VAE loss\n",
        "            else:\n",
        "                outputs = model(images)\n",
        "                # Ensure consistent shape\n",
        "                loss = mse_loss(outputs, images)\n",
        "\n",
        "            loss.backward()\n",
        "            optimizer.step()\n",
        "            total_loss += loss.item()\n",
        "\n",
        "        print(f\"Epoch {epoch + 1}, Loss: {total_loss / len(train_loader)}\")"
      ]
    },
    {
      "cell_type": "markdown",
      "source": [
        "# Model Instantiation and Training - VanillaAutoencoder\n",
        "\n",
        "- **Initialize Model**: Create and move `VanillaAutoencoder` to the device.  \n",
        "- **Train Model**: Use `train_autoencoder` to train on the MNIST dataset.  \n",
        "- **Monitor Progress**: Print training loss per epoch."
      ],
      "metadata": {
        "id": "KZZj3qrpOkHJ"
      }
    },
    {
      "cell_type": "code",
      "source": [
        "# Instantiate and train models\n",
        "vanilla_autoencoder = VanillaAutoencoder().to(device)\n",
        "\n",
        "print(\"Training Vanilla Autoencoder...\")\n",
        "train_autoencoder(vanilla_autoencoder, train_loader)"
      ],
      "metadata": {
        "colab": {
          "base_uri": "https://localhost:8080/"
        },
        "id": "VfYqKUqSc4fn",
        "outputId": "cadd18f3-3e8a-4f39-dfc4-bfe73abd91d5"
      },
      "execution_count": null,
      "outputs": [
        {
          "output_type": "stream",
          "name": "stdout",
          "text": [
            "Training Vanilla Autoencoder...\n",
            "Epoch 1, Loss: 0.04410190415233056\n",
            "Epoch 2, Loss: 0.020117672072894284\n",
            "Epoch 3, Loss: 0.01501156314651468\n",
            "Epoch 4, Loss: 0.012256059084715111\n",
            "Epoch 5, Loss: 0.010383813032336327\n",
            "Epoch 6, Loss: 0.00923743214744177\n",
            "Epoch 7, Loss: 0.008404382099427267\n",
            "Epoch 8, Loss: 0.007779086156607246\n",
            "Epoch 9, Loss: 0.007258283370521976\n",
            "Epoch 10, Loss: 0.006877349172311742\n",
            "Epoch 11, Loss: 0.006513296886643113\n",
            "Epoch 12, Loss: 0.006224966291258775\n",
            "Epoch 13, Loss: 0.005989354631023557\n",
            "Epoch 14, Loss: 0.005763489352876761\n",
            "Epoch 15, Loss: 0.005594177239103867\n",
            "Epoch 16, Loss: 0.005405798891007201\n",
            "Epoch 17, Loss: 0.005244058870605187\n",
            "Epoch 18, Loss: 0.005110903358114744\n",
            "Epoch 19, Loss: 0.004979689169659226\n",
            "Epoch 20, Loss: 0.004864664488176166\n",
            "Epoch 21, Loss: 0.004751797486493773\n",
            "Epoch 22, Loss: 0.004667164188926853\n",
            "Epoch 23, Loss: 0.004577958538357828\n",
            "Epoch 24, Loss: 0.004507833329249801\n",
            "Epoch 25, Loss: 0.004407103095493559\n",
            "Epoch 26, Loss: 0.004342884602231671\n",
            "Epoch 27, Loss: 0.004251845203328139\n",
            "Epoch 28, Loss: 0.004183192934983893\n",
            "Epoch 29, Loss: 0.004113955303097267\n",
            "Epoch 30, Loss: 0.004045205357085381\n",
            "Epoch 31, Loss: 0.0039792896728954716\n",
            "Epoch 32, Loss: 0.003908184873285705\n",
            "Epoch 33, Loss: 0.0038686058437352434\n",
            "Epoch 34, Loss: 0.0038062738734227952\n",
            "Epoch 35, Loss: 0.003768088101451077\n",
            "Epoch 36, Loss: 0.00373131398018251\n",
            "Epoch 37, Loss: 0.0036639164967426675\n",
            "Epoch 38, Loss: 0.0036308212917663457\n",
            "Epoch 39, Loss: 0.003594197419736145\n",
            "Epoch 40, Loss: 0.003549399584639015\n",
            "Epoch 41, Loss: 0.0035148688645632283\n",
            "Epoch 42, Loss: 0.0034693572804260294\n",
            "Epoch 43, Loss: 0.00342670552182331\n",
            "Epoch 44, Loss: 0.003389954376322374\n",
            "Epoch 45, Loss: 0.003373717337644208\n",
            "Epoch 46, Loss: 0.0033310569131742916\n",
            "Epoch 47, Loss: 0.0032923333058908167\n",
            "Epoch 48, Loss: 0.003264563897354548\n",
            "Epoch 49, Loss: 0.0032301503134323463\n",
            "Epoch 50, Loss: 0.0032013542240243286\n"
          ]
        }
      ]
    },
    {
      "cell_type": "markdown",
      "source": [
        "# Model Instantiation and Training - VAE\n",
        "\n",
        "- **Initialize Model**: Create a `VAE` with `latent_dim=50` and move it to the device.  \n",
        "- **Train Model**: Use `train_autoencoder` to train the VAE on the MNIST dataset.  \n",
        "- **Monitor Progress**: Print training loss per epoch."
      ],
      "metadata": {
        "id": "oXdLgzUxOuCX"
      }
    },
    {
      "cell_type": "code",
      "source": [
        "vae = VAE(latent_dim=50).to(device)\n",
        "\n",
        "print(\"Training VAE...\")\n",
        "train_autoencoder(vae, train_loader)"
      ],
      "metadata": {
        "colab": {
          "base_uri": "https://localhost:8080/"
        },
        "id": "5jDoBku6iYm5",
        "outputId": "99189582-6553-41e4-a9ef-a8a89960c2a4"
      },
      "execution_count": null,
      "outputs": [
        {
          "output_type": "stream",
          "name": "stdout",
          "text": [
            "Training VAE...\n",
            "Epoch 1, Loss: 4.843079627767555\n",
            "Epoch 2, Loss: 0.08412803557000435\n",
            "Epoch 3, Loss: 0.0733909156721538\n",
            "Epoch 4, Loss: 0.07020348680616696\n",
            "Epoch 5, Loss: 0.06888009447342297\n",
            "Epoch 6, Loss: 0.06824227131760197\n",
            "Epoch 7, Loss: 0.06790961387124397\n",
            "Epoch 8, Loss: 0.06771228595900891\n",
            "Epoch 9, Loss: 0.06761342450690422\n",
            "Epoch 10, Loss: 0.06753863155968916\n",
            "Epoch 11, Loss: 0.06750198160566247\n",
            "Epoch 12, Loss: 0.06746528205523358\n",
            "Epoch 13, Loss: 0.06743805717303554\n",
            "Epoch 14, Loss: 0.06742068754235056\n",
            "Epoch 15, Loss: 0.06741307736205648\n",
            "Epoch 16, Loss: 0.06739698320245946\n",
            "Epoch 17, Loss: 0.06738082713473326\n",
            "Epoch 18, Loss: 0.06737872688119599\n",
            "Epoch 19, Loss: 0.0673652381530957\n",
            "Epoch 20, Loss: 0.06735733659791031\n",
            "Epoch 21, Loss: 0.06735611919051548\n",
            "Epoch 22, Loss: 0.0673518488640343\n",
            "Epoch 23, Loss: 0.06734417366193556\n",
            "Epoch 24, Loss: 0.06735107227206738\n",
            "Epoch 25, Loss: 0.06734951220150949\n",
            "Epoch 26, Loss: 0.06734441735469965\n",
            "Epoch 27, Loss: 0.06734331295307257\n",
            "Epoch 28, Loss: 0.0673464910149066\n",
            "Epoch 29, Loss: 0.06734400430023035\n",
            "Epoch 30, Loss: 0.06734070024574235\n",
            "Epoch 31, Loss: 0.06734330839376206\n",
            "Epoch 32, Loss: 0.06734257222397495\n",
            "Epoch 33, Loss: 0.06733654896968971\n",
            "Epoch 34, Loss: 0.0673342702517123\n",
            "Epoch 35, Loss: 0.06733582405520401\n",
            "Epoch 36, Loss: 0.0673276992844366\n",
            "Epoch 37, Loss: 0.06733560718611868\n",
            "Epoch 38, Loss: 0.06733103698568303\n",
            "Epoch 39, Loss: 0.06733038960330522\n",
            "Epoch 40, Loss: 0.06732768298529868\n",
            "Epoch 41, Loss: 0.06732922744776394\n",
            "Epoch 42, Loss: 0.06732968611122449\n",
            "Epoch 43, Loss: 0.06732617830162618\n",
            "Epoch 44, Loss: 0.06732392468368575\n",
            "Epoch 45, Loss: 0.06732742955435568\n",
            "Epoch 46, Loss: 0.06732353189987923\n",
            "Epoch 47, Loss: 0.06732390088630892\n",
            "Epoch 48, Loss: 0.0673190290485618\n",
            "Epoch 49, Loss: 0.06732509554480948\n",
            "Epoch 50, Loss: 0.06732303763567003\n"
          ]
        }
      ]
    },
    {
      "cell_type": "markdown",
      "source": [
        "- **Generate Images**:  \n",
        "  - Creates `num_images` from random latent vectors.  \n",
        "  - Uses `decoder` for **Vanilla Autoencoder** and `decode` for **VAE**.  \n",
        "\n",
        "- **Plot Images**:  \n",
        "  - Displays generated images in a grid with a title.  \n",
        "  - Evaluate both models and generate images with matching `latent_dim`.  \n",
        "  - Visualize outputs from **Vanilla Autoencoder** and **VAE**."
      ],
      "metadata": {
        "id": "DOC-xowFO9lX"
      }
    },
    {
      "cell_type": "code",
      "source": [
        "# Generate images from random latent vectors\n",
        "def generate_images(model, num_images=10, latent_dim=50):\n",
        "    model.eval()  # Ensure model is in evaluation mode\n",
        "    with torch.no_grad():\n",
        "        # Generate random latent vectors (latent_dim should match the model's latent space size)\n",
        "        random_latents = torch.randn(num_images, latent_dim).to(device)\n",
        "\n",
        "        # If using Vanilla Autoencoder, directly call forward method\n",
        "        if isinstance(model, VanillaAutoencoder):\n",
        "            generated_images = model.decoder(random_latents).cpu().view(-1, 1, 28, 28)\n",
        "        else:\n",
        "            # For VAE, call the decode method directly\n",
        "            generated_images = model.decode(random_latents).cpu().view(-1, 1, 28, 28)\n",
        "\n",
        "        return generated_images\n",
        "\n",
        "# Plot images in a grid\n",
        "def plot_images(images, title):\n",
        "    plt.figure(figsize=(10, 2))\n",
        "    for i in range(len(images)):\n",
        "        plt.subplot(1, len(images), i + 1)\n",
        "        plt.imshow(images[i].squeeze(), cmap='gray')\n",
        "        plt.axis('off')\n",
        "    plt.suptitle(title)\n",
        "    plt.show()\n",
        "\n",
        "# Assuming you have vanilla_autoencoder and vae already defined and trained\n",
        "vanilla_autoencoder.eval()  # Ensure model is in evaluation mode\n",
        "vae.eval()  # Ensure model is in evaluation mode\n",
        "\n",
        "# Generate images using both decoders\n",
        "vanilla_images = generate_images(vanilla_autoencoder, latent_dim=50)  # Adjust latent_dim if necessary\n",
        "vae_images = generate_images(vae, latent_dim=50)  # Same for VAE\n",
        "\n",
        "# Plot the generated images from both models\n",
        "plot_images(vanilla_images, \"Vanilla Autoencoder Generated Images\")\n",
        "plot_images(vae_images, \"VAE Generated Images\")"
      ],
      "metadata": {
        "colab": {
          "base_uri": "https://localhost:8080/",
          "height": 315
        },
        "id": "EE-doLkjWwO-",
        "outputId": "6f2b13d5-b708-4a25-8da1-3acb6533473d"
      },
      "execution_count": null,
      "outputs": [
        {
          "output_type": "display_data",
          "data": {
            "text/plain": [
              "<Figure size 1000x200 with 10 Axes>"
            ],
            "image/png": "[encoded data removed]"
          },
          "metadata": {}
        },
        {
          "output_type": "display_data",
          "data": {
            "text/plain": [
              "<Figure size 1000x200 with 10 Axes>"
            ],
            "image/png": "[encoded data removed]"
          },
          "metadata": {}
        }
      ]
    },
    {
      "cell_type": "markdown",
      "source": [
        "- **Metric Calculation**:  \n",
        "  - Uses **SSIM** (Structural Similarity) and **PSNR** (Peak Signal-to-Noise Ratio) to evaluate image quality.  \n",
        "  - Applies a **3x3 window** for SSIM to capture finer details.  \n",
        "\n",
        "- **Process**:  \n",
        "  1. Extracts 10 original images from `train_loader`.  \n",
        "  2. Computes SSIM and PSNR for both **Vanilla Autoencoder** and **VAE**.  \n",
        "  3. Outputs the **average SSIM** and **PSNR** for both models.  \n",
        "\n",
        "- **Output**:  \n",
        "  Prints the average quality metrics for a quick model comparison."
      ],
      "metadata": {
        "id": "fOde-ItQPGbx"
      }
    },
    {
      "cell_type": "markdown",
      "source": [
        "- **SSIM (Structural Similarity Index Measure)**:  \n",
        "  SSIM is a metric used to measure the similarity between two images. It takes into account changes in structural information, luminance, and texture. SSIM values range from **-1** to **1**, where **1** indicates perfect similarity, and values closer to **0** suggest less similarity. It is commonly used to assess the perceptual quality of images.\n",
        "\n",
        "- **PSNR (Peak Signal-to-Noise Ratio)**:  \n",
        "  PSNR is a metric that measures the quality of a reconstructed image compared to the original, specifically focusing on the difference in pixel values. It is measured in **decibels (dB)**, where higher values indicate better quality. A higher PSNR means there is less distortion between the original and generated images."
      ],
      "metadata": {
        "id": "YLdvCw3pPXWU"
      }
    },
    {
      "cell_type": "code",
      "source": [
        "from skimage.metrics import structural_similarity as ssim\n",
        "from skimage.metrics import peak_signal_noise_ratio as psnr\n",
        "import numpy as np\n",
        "\n",
        "def calculate_metrics(original, generated):\n",
        "    # Ensure the images are the same shape and squeeze out any singleton dimensions\n",
        "    original = original.squeeze()\n",
        "    generated = generated.squeeze()\n",
        "\n",
        "    # Use a smaller window size (3x3) for SSIM calculation\n",
        "    ssim_value = ssim(original, generated, data_range=generated.max() - generated.min(), win_size=3)\n",
        "    psnr_value = psnr(original, generated, data_range=generated.max() - generated.min())\n",
        "    return ssim_value, psnr_value\n",
        "\n",
        "# Calculate metrics for both autoencoders\n",
        "original_images = next(iter(train_loader))[0][:10].cpu().numpy()\n",
        "vanilla_metrics = [calculate_metrics(original_images[i], vanilla_images[i].cpu().numpy()) for i in range(10)]\n",
        "vae_metrics = [calculate_metrics(original_images[i], vae_images[i].cpu().numpy()) for i in range(10)]\n",
        "\n",
        "print(\"Vanilla Autoencoder - Avg SSIM:\", np.mean([m[0] for m in vanilla_metrics]))\n",
        "print(\"Vanilla Autoencoder - Avg PSNR:\", np.mean([m[1] for m in vanilla_metrics]))\n",
        "print(\"VAE - Avg SSIM:\", np.mean([m[0] for m in vae_metrics]))\n",
        "print(\"VAE - Avg PSNR:\", np.mean([m[1] for m in vae_metrics]))"
      ],
      "metadata": {
        "colab": {
          "base_uri": "https://localhost:8080/"
        },
        "id": "61DyZnhCXXr6",
        "outputId": "809a0e08-a6e4-47bb-da14-a3eeb8af5474"
      },
      "execution_count": null,
      "outputs": [
        {
          "output_type": "stream",
          "name": "stdout",
          "text": [
            "Vanilla Autoencoder - Avg SSIM: 0.4035713713104376\n",
            "Vanilla Autoencoder - Avg PSNR: 8.785507203827946\n",
            "VAE - Avg SSIM: 0.26924348936776443\n",
            "VAE - Avg PSNR: 6.902846562806647\n"
          ]
        }
      ]
    },
    {
      "cell_type": "markdown",
      "source": [
        "- **Vanilla Autoencoder**:  \n",
        "  - Average SSIM: **0.40**  \n",
        "  - Average PSNR: **8.79**  \n",
        "\n",
        "- **VAE**:  \n",
        "  - Average SSIM: **0.27**  \n",
        "  - Average PSNR: **6.90**  \n",
        "\n",
        "The **Vanilla Autoencoder** outperforms the **VAE** in both SSIM and PSNR, indicating better image quality."
      ],
      "metadata": {
        "id": "yZjA5jgiPb33"
      }
    }
  ]
}